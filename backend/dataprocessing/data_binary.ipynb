{
 "cells": [
  {
   "cell_type": "code",
   "execution_count": 3,
   "id": "440d02ad",
   "metadata": {},
   "outputs": [
    {
     "name": "stdout",
     "output_type": "stream",
     "text": [
      "Collecting pandas\n",
      "  Using cached pandas-2.2.3-cp313-cp313-win_amd64.whl.metadata (19 kB)\n",
      "Collecting numpy>=1.26.0 (from pandas)\n",
      "  Using cached numpy-2.2.4-cp313-cp313-win_amd64.whl.metadata (60 kB)\n",
      "Requirement already satisfied: python-dateutil>=2.8.2 in c:\\users\\xiang\\appdata\\roaming\\python\\python313\\site-packages (from pandas) (2.9.0.post0)\n",
      "Collecting pytz>=2020.1 (from pandas)\n",
      "  Using cached pytz-2025.2-py2.py3-none-any.whl.metadata (22 kB)\n",
      "Collecting tzdata>=2022.7 (from pandas)\n",
      "  Using cached tzdata-2025.2-py2.py3-none-any.whl.metadata (1.4 kB)\n",
      "Requirement already satisfied: six>=1.5 in c:\\users\\xiang\\appdata\\roaming\\python\\python313\\site-packages (from python-dateutil>=2.8.2->pandas) (1.17.0)\n",
      "Using cached pandas-2.2.3-cp313-cp313-win_amd64.whl (11.5 MB)\n",
      "Using cached numpy-2.2.4-cp313-cp313-win_amd64.whl (12.6 MB)\n",
      "Using cached pytz-2025.2-py2.py3-none-any.whl (509 kB)\n",
      "Using cached tzdata-2025.2-py2.py3-none-any.whl (347 kB)\n",
      "Installing collected packages: pytz, tzdata, numpy, pandas\n",
      "Successfully installed numpy-2.2.4 pandas-2.2.3 pytz-2025.2 tzdata-2025.2\n",
      "Note: you may need to restart the kernel to use updated packages.\n"
     ]
    },
    {
     "name": "stderr",
     "output_type": "stream",
     "text": [
      "  WARNING: The scripts f2py.exe and numpy-config.exe are installed in 'c:\\python\\py3133\\Scripts' which is not on PATH.\n",
      "  Consider adding this directory to PATH or, if you prefer to suppress this warning, use --no-warn-script-location.\n"
     ]
    }
   ],
   "source": [
    "pip install pandas"
   ]
  },
  {
   "cell_type": "code",
   "execution_count": 1,
   "id": "4e721bee",
   "metadata": {},
   "outputs": [],
   "source": [
    "import pandas as pd"
   ]
  },
  {
   "cell_type": "code",
   "execution_count": 2,
   "id": "8d8a9f13",
   "metadata": {},
   "outputs": [],
   "source": [
    "data = pd.read_csv('../data/dataset.csv')\n",
    "\n",
    "df = pd.DataFrame(data)"
   ]
  },
  {
   "cell_type": "code",
   "execution_count": 16,
   "id": "8b81042d",
   "metadata": {},
   "outputs": [
    {
     "name": "stdout",
     "output_type": "stream",
     "text": [
      "          condition  Unnamed: 1             Unnamed: 2             Unnamed: 3  \\\n",
      "0  Fungal infection     itching              skin_rash   nodal_skin_eruptions   \n",
      "1  Fungal infection   skin_rash   nodal_skin_eruptions    dischromic _patches   \n",
      "2  Fungal infection     itching   nodal_skin_eruptions    dischromic _patches   \n",
      "3  Fungal infection     itching              skin_rash    dischromic _patches   \n",
      "4  Fungal infection     itching              skin_rash   nodal_skin_eruptions   \n",
      "\n",
      "             Unnamed: 4 Unnamed: 5 Unnamed: 6 Unnamed: 7 Unnamed: 8  \\\n",
      "0   dischromic _patches        NaN        NaN        NaN        NaN   \n",
      "1                   NaN        NaN        NaN        NaN        NaN   \n",
      "2                   NaN        NaN        NaN        NaN        NaN   \n",
      "3                   NaN        NaN        NaN        NaN        NaN   \n",
      "4                   NaN        NaN        NaN        NaN        NaN   \n",
      "\n",
      "  Unnamed: 9 Unnamed: 10 Unnamed: 11 Unnamed: 12 Unnamed: 13 Unnamed: 14  \\\n",
      "0        NaN         NaN         NaN         NaN         NaN         NaN   \n",
      "1        NaN         NaN         NaN         NaN         NaN         NaN   \n",
      "2        NaN         NaN         NaN         NaN         NaN         NaN   \n",
      "3        NaN         NaN         NaN         NaN         NaN         NaN   \n",
      "4        NaN         NaN         NaN         NaN         NaN         NaN   \n",
      "\n",
      "  Unnamed: 15 Unnamed: 16 Unnamed: 17  \n",
      "0         NaN         NaN         NaN  \n",
      "1         NaN         NaN         NaN  \n",
      "2         NaN         NaN         NaN  \n",
      "3         NaN         NaN         NaN  \n",
      "4         NaN         NaN         NaN  \n"
     ]
    }
   ],
   "source": [
    "# Rename the first column (whatever its name is)\n",
    "df.rename(columns={df.columns[0]: 'condition'}, inplace=True)\n",
    "\n",
    "# Now you can safely access df['condition']\n",
    "print(df.head())"
   ]
  },
  {
   "cell_type": "code",
   "execution_count": 17,
   "id": "803b4bd8",
   "metadata": {},
   "outputs": [
    {
     "data": {
      "text/plain": [
       "['itching',\n",
       " 'skin_rash',\n",
       " 'nodal_skin_eruptions',\n",
       " 'dischromic _patches',\n",
       " 'continuous_sneezing',\n",
       " 'shivering',\n",
       " 'chills',\n",
       " 'watering_from_eyes',\n",
       " 'stomach_pain',\n",
       " 'acidity',\n",
       " 'ulcers_on_tongue',\n",
       " 'vomiting',\n",
       " 'cough',\n",
       " 'chest_pain',\n",
       " 'yellowish_skin',\n",
       " 'nausea',\n",
       " 'loss_of_appetite',\n",
       " 'abdominal_pain',\n",
       " 'yellowing_of_eyes',\n",
       " 'burning_micturition',\n",
       " 'spotting_ urination',\n",
       " 'passage_of_gases',\n",
       " 'internal_itching',\n",
       " 'indigestion',\n",
       " 'muscle_wasting',\n",
       " 'patches_in_throat',\n",
       " 'high_fever',\n",
       " 'extra_marital_contacts',\n",
       " 'fatigue',\n",
       " 'weight_loss',\n",
       " 'restlessness',\n",
       " 'lethargy',\n",
       " 'irregular_sugar_level',\n",
       " 'blurred_and_distorted_vision',\n",
       " 'obesity',\n",
       " 'excessive_hunger',\n",
       " 'increased_appetite',\n",
       " 'polyuria',\n",
       " 'sunken_eyes',\n",
       " 'dehydration',\n",
       " 'diarrhoea',\n",
       " 'breathlessness',\n",
       " 'family_history',\n",
       " 'mucoid_sputum',\n",
       " 'headache',\n",
       " 'dizziness',\n",
       " 'loss_of_balance',\n",
       " 'lack_of_concentration',\n",
       " 'stiff_neck',\n",
       " 'depression',\n",
       " 'irritability',\n",
       " 'visual_disturbances',\n",
       " 'back_pain',\n",
       " 'weakness_in_limbs',\n",
       " 'neck_pain',\n",
       " 'weakness_of_one_body_side',\n",
       " 'altered_sensorium',\n",
       " 'dark_urine',\n",
       " 'sweating',\n",
       " 'muscle_pain',\n",
       " 'mild_fever',\n",
       " 'swelled_lymph_nodes',\n",
       " 'malaise',\n",
       " 'red_spots_over_body',\n",
       " 'joint_pain',\n",
       " 'pain_behind_the_eyes',\n",
       " 'constipation',\n",
       " 'toxic_look_(typhos)',\n",
       " 'belly_pain',\n",
       " 'yellow_urine',\n",
       " 'receiving_blood_transfusion',\n",
       " 'receiving_unsterile_injections',\n",
       " 'coma',\n",
       " 'stomach_bleeding',\n",
       " 'acute_liver_failure',\n",
       " 'swelling_of_stomach',\n",
       " 'distention_of_abdomen',\n",
       " 'history_of_alcohol_consumption',\n",
       " 'fluid_overload',\n",
       " 'phlegm',\n",
       " 'blood_in_sputum',\n",
       " 'throat_irritation',\n",
       " 'redness_of_eyes',\n",
       " 'sinus_pressure',\n",
       " 'runny_nose',\n",
       " 'congestion',\n",
       " 'loss_of_smell',\n",
       " 'fast_heart_rate',\n",
       " 'rusty_sputum',\n",
       " 'pain_during_bowel_movements',\n",
       " 'pain_in_anal_region',\n",
       " 'bloody_stool',\n",
       " 'irritation_in_anus',\n",
       " 'cramps',\n",
       " 'bruising',\n",
       " 'swollen_legs',\n",
       " 'swollen_blood_vessels',\n",
       " 'prominent_veins_on_calf',\n",
       " 'weight_gain',\n",
       " 'cold_hands_and_feets',\n",
       " 'mood_swings',\n",
       " 'puffy_face_and_eyes',\n",
       " 'enlarged_thyroid',\n",
       " 'brittle_nails',\n",
       " 'swollen_extremeties',\n",
       " 'abnormal_menstruation',\n",
       " 'muscle_weakness',\n",
       " 'anxiety',\n",
       " 'slurred_speech',\n",
       " 'palpitations',\n",
       " 'drying_and_tingling_lips',\n",
       " 'knee_pain',\n",
       " 'hip_joint_pain',\n",
       " 'swelling_joints',\n",
       " 'painful_walking',\n",
       " 'movement_stiffness',\n",
       " 'spinning_movements',\n",
       " 'unsteadiness',\n",
       " 'pus_filled_pimples',\n",
       " 'blackheads',\n",
       " 'scurring',\n",
       " 'bladder_discomfort',\n",
       " 'foul_smell_of urine',\n",
       " 'continuous_feel_of_urine',\n",
       " 'skin_peeling',\n",
       " 'silver_like_dusting',\n",
       " 'small_dents_in_nails',\n",
       " 'inflammatory_nails',\n",
       " 'blister',\n",
       " 'red_sore_around_nose',\n",
       " 'yellow_crust_ooze']"
      ]
     },
     "execution_count": 17,
     "metadata": {},
     "output_type": "execute_result"
    }
   ],
   "source": [
    "all_symptoms = pd.unique(df.iloc[:, 1:].values.ravel())\n",
    "unique_symptoms = [str(symptom).strip() for symptom in all_symptoms if pd.notna(symptom)]\n",
    "\n",
    "unique_symptoms"
   ]
  },
  {
   "cell_type": "code",
   "execution_count": 18,
   "id": "99706dbc",
   "metadata": {},
   "outputs": [
    {
     "data": {
      "text/plain": [
       "list"
      ]
     },
     "execution_count": 18,
     "metadata": {},
     "output_type": "execute_result"
    }
   ],
   "source": [
    "type(unique_symptoms)\n"
   ]
  },
  {
   "cell_type": "code",
   "execution_count": 19,
   "id": "00be1702",
   "metadata": {},
   "outputs": [
    {
     "data": {
      "text/plain": [
       "131"
      ]
     },
     "execution_count": 19,
     "metadata": {},
     "output_type": "execute_result"
    }
   ],
   "source": [
    "len(unique_symptoms)\n"
   ]
  },
  {
   "cell_type": "code",
   "execution_count": 22,
   "id": "674bdc50",
   "metadata": {},
   "outputs": [],
   "source": [
    "# Step 4: For each condition, mark '1' for each symptom present and '0' for symptoms not present\n",
    "binary_rows = []  # Use a list to collect all rows"
   ]
  },
  {
   "cell_type": "code",
   "execution_count": 24,
   "id": "f7cab23f",
   "metadata": {},
   "outputs": [],
   "source": [
    "# Step 4: Convert each row into binary format\n",
    "binary_rows = []\n",
    "\n",
    "for i in range(len(df)):\n",
    "    condition = df.iloc[i, 0]  # First column = condition\n",
    "    symptoms = df.iloc[i, 1:].dropna().astype(str).str.strip().tolist()  # Clean symptoms\n",
    "    \n",
    "    # Initialize all symptoms as 0\n",
    "    binary_row = {symptom: 0 for symptom in unique_symptoms}\n",
    "    \n",
    "    # Mark present symptoms as 1\n",
    "    for symptom in symptoms:\n",
    "        binary_row[symptom] = 1\n",
    "    \n",
    "    # Add condition label\n",
    "    binary_row['condition'] = condition\n",
    "    binary_rows.append(binary_row)"
   ]
  },
  {
   "cell_type": "code",
   "execution_count": 25,
   "id": "d6e050b8",
   "metadata": {},
   "outputs": [],
   "source": [
    "# Step 5: Create the binary DataFrame\n",
    "binary_data = pd.DataFrame(binary_rows, columns=['condition'] + unique_symptoms)"
   ]
  },
  {
   "cell_type": "code",
   "execution_count": 26,
   "id": "43bfd486",
   "metadata": {},
   "outputs": [
    {
     "name": "stdout",
     "output_type": "stream",
     "text": [
      "          condition  itching  skin_rash  nodal_skin_eruptions  \\\n",
      "0  Fungal infection        1          1                     1   \n",
      "1  Fungal infection        0          1                     1   \n",
      "2  Fungal infection        1          0                     1   \n",
      "3  Fungal infection        1          1                     0   \n",
      "4  Fungal infection        1          1                     1   \n",
      "\n",
      "   dischromic _patches  continuous_sneezing  shivering  chills  \\\n",
      "0                    1                    0          0       0   \n",
      "1                    1                    0          0       0   \n",
      "2                    1                    0          0       0   \n",
      "3                    1                    0          0       0   \n",
      "4                    0                    0          0       0   \n",
      "\n",
      "   watering_from_eyes  stomach_pain  ...  bladder_discomfort  \\\n",
      "0                   0             0  ...                   0   \n",
      "1                   0             0  ...                   0   \n",
      "2                   0             0  ...                   0   \n",
      "3                   0             0  ...                   0   \n",
      "4                   0             0  ...                   0   \n",
      "\n",
      "   foul_smell_of urine  continuous_feel_of_urine  skin_peeling  \\\n",
      "0                    0                         0             0   \n",
      "1                    0                         0             0   \n",
      "2                    0                         0             0   \n",
      "3                    0                         0             0   \n",
      "4                    0                         0             0   \n",
      "\n",
      "   silver_like_dusting  small_dents_in_nails  inflammatory_nails  blister  \\\n",
      "0                    0                     0                   0        0   \n",
      "1                    0                     0                   0        0   \n",
      "2                    0                     0                   0        0   \n",
      "3                    0                     0                   0        0   \n",
      "4                    0                     0                   0        0   \n",
      "\n",
      "   red_sore_around_nose  yellow_crust_ooze  \n",
      "0                     0                  0  \n",
      "1                     0                  0  \n",
      "2                     0                  0  \n",
      "3                     0                  0  \n",
      "4                     0                  0  \n",
      "\n",
      "[5 rows x 132 columns]\n"
     ]
    }
   ],
   "source": [
    "print(binary_data.head())"
   ]
  },
  {
   "cell_type": "code",
   "execution_count": 27,
   "id": "0fbabc85",
   "metadata": {},
   "outputs": [],
   "source": [
    "# Step 6: Save to CSV\n",
    "binary_data.to_csv('../data/binary_dataset.csv', index=False)"
   ]
  }
 ],
 "metadata": {
  "kernelspec": {
   "display_name": "Python 3",
   "language": "python",
   "name": "python3"
  },
  "language_info": {
   "codemirror_mode": {
    "name": "ipython",
    "version": 3
   },
   "file_extension": ".py",
   "mimetype": "text/x-python",
   "name": "python",
   "nbconvert_exporter": "python",
   "pygments_lexer": "ipython3",
   "version": "3.13.3"
  }
 },
 "nbformat": 4,
 "nbformat_minor": 5
}
